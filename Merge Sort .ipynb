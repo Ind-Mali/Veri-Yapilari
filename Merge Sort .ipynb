{
 "cells": [
  {
   "cell_type": "markdown",
   "metadata": {},
   "source": [
    "[16,21,11,8,12,22] \n",
    "1. Yukarıdaki dizinin sort türüne göre aşamalarını yazınız.\n",
    "2. Big-O gösterimini yazınız."
   ]
  },
  {
   "cell_type": "markdown",
   "metadata": {},
   "source": [
    "1. \n",
    "    1. Dizi ortadan ikiye bölünür.\n",
    "    2. İkiye ayrılmış olan dizi yeniden bölünür bu işlem her listenin içinde bir tane elemen kalasıya kadar devam eder.\n",
    "    3. Bölünen elemanlardan ilk grup kendi aralarında birbirlerine büyüklük küçüklük sorarak sıralanır.\n",
    "    4. Aynı işlem her grup için yapılır.\n",
    "    5. Bu işlem yapılırken büyükten küçüğe doğru sıralama işlemi yapılır ve birleştirilir.\n",
    "    6. Her eleman birleşirken sıralama yapılacağı için en son küçükten büyüğe sıralanmış dizi elde edilir.\n",
    "2. \n",
    "    1. Big-O gösterimi = O(nlogn)"
   ]
  },
  {
   "cell_type": "code",
   "execution_count": null,
   "metadata": {},
   "outputs": [],
   "source": []
  }
 ],
 "metadata": {
  "kernelspec": {
   "display_name": "Python 3",
   "language": "python",
   "name": "python3"
  },
  "language_info": {
   "codemirror_mode": {
    "name": "ipython",
    "version": 3
   },
   "file_extension": ".py",
   "mimetype": "text/x-python",
   "name": "python",
   "nbconvert_exporter": "python",
   "pygments_lexer": "ipython3",
   "version": "3.8.5"
  }
 },
 "nbformat": 4,
 "nbformat_minor": 4
}
