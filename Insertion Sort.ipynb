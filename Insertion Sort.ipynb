{
 "cells": [
  {
   "cell_type": "markdown",
   "metadata": {},
   "source": [
    "# Insertion Sort "
   ]
  },
  {
   "cell_type": "markdown",
   "metadata": {},
   "source": [
    " [22,27,16,2,18,6]\n",
    "\n",
    "Insertion Sort'a göre aşamaları\n",
    "\n",
    "1. ilk Aşamada birinci dizindeki eleman en küçük secilir ve yanındaki ile başlayarak bütün elemanlara küçük olup olmadığı sorulur.\n",
    "2. Eğer yanındaki eleman küçük ise ikisi arasında yer değişikliği olur.\n",
    "3. Aynı işlemler devam ederek küçükten büyüğe sıralama yapılır."
   ]
  },
  {
   "cell_type": "markdown",
   "metadata": {},
   "source": [
    "örnek = [22,27,16,2,18,6] \n",
    "       \n",
    "        1. [2,27,16,22,18,6]\n",
    "        2. [2,6,16,22,18,27]\n",
    "        3. [2,6,16,22,18,27]\n",
    "        \n",
    "Time Complexity: Average case: Aradığımız sayının ortada olması,Worst case: Aradığımız sayının sonda olması, Best case: Aradığımız sayının dizinin en başında olması.\n",
    "Dizi sıralandıktan sonra 18 sayısı hangi case kapsamına girer? Yazınız.\n",
    "\n",
    "1. Aradğımız sayı dizinin sonuna yakın olduğu için Worst case kapsamına girer.\n",
    "\n",
    "Big-O gösterimi = O(n^2)"
   ]
  },
  {
   "cell_type": "markdown",
   "metadata": {},
   "source": [
    "[7,3,5,8,2,9,4,15,6] dizisinin Insertion Sort'a göre ilk 4 adımını yazınız."
   ]
  },
  {
   "cell_type": "markdown",
   "metadata": {},
   "source": [
    "örnek = [7,3,5,8,2,9,4,15,6]\n",
    "\n",
    "    1. [2,3,5,8,7,9,4,15,6]\n",
    "    2. [2,3,4,8,7,9,5,15,6]\n",
    "    3. [2,3,4,5,7,9,8,15,6]\n",
    "    4. [2,3,4,5,6,9,8,15,7]\n"
   ]
  },
  {
   "cell_type": "code",
   "execution_count": null,
   "metadata": {},
   "outputs": [],
   "source": []
  },
  {
   "cell_type": "code",
   "execution_count": null,
   "metadata": {},
   "outputs": [],
   "source": []
  },
  {
   "cell_type": "code",
   "execution_count": null,
   "metadata": {},
   "outputs": [],
   "source": []
  },
  {
   "cell_type": "code",
   "execution_count": null,
   "metadata": {},
   "outputs": [],
   "source": []
  }
 ],
 "metadata": {
  "kernelspec": {
   "display_name": "Python 3",
   "language": "python",
   "name": "python3"
  },
  "language_info": {
   "codemirror_mode": {
    "name": "ipython",
    "version": 3
   },
   "file_extension": ".py",
   "mimetype": "text/x-python",
   "name": "python",
   "nbconvert_exporter": "python",
   "pygments_lexer": "ipython3",
   "version": "3.8.5"
  }
 },
 "nbformat": 4,
 "nbformat_minor": 4
}
