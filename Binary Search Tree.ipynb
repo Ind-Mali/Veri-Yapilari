{
 "cells": [
  {
   "cell_type": "markdown",
   "metadata": {},
   "source": [
    "[7, 5, 1, 8, 3, 6, 0, 9, 4, 2] dizisinin Binary-Search-Tree aşamalarını yazınız.\n",
    "\n",
    "Örnek: root x'dir. root'un sağından y bulunur. Solunda z bulunur vb."
   ]
  },
  {
   "cell_type": "markdown",
   "metadata": {},
   "source": [
    "                                5\n",
    "                            3        7 \n",
    "                         1   4     6    8\n",
    "                       0  2               9\n",
    "             \n",
    "                        "
   ]
  },
  {
   "cell_type": "markdown",
   "metadata": {},
   "source": [
    "1. Root = 5, Sağındaki 7, solundaki 3\n",
    "2. Root = 3, sağındaki 4, solundaki 1\n",
    "3. Root = 1, sağındaki 2, solundaki 0\n",
    "4. Root = 7, sağındaki 8, solundaki 6\n",
    "5. Root = 8, sağındaki 9, "
   ]
  },
  {
   "cell_type": "code",
   "execution_count": null,
   "metadata": {},
   "outputs": [],
   "source": []
  },
  {
   "cell_type": "code",
   "execution_count": null,
   "metadata": {},
   "outputs": [],
   "source": []
  },
  {
   "cell_type": "code",
   "execution_count": null,
   "metadata": {},
   "outputs": [],
   "source": []
  }
 ],
 "metadata": {
  "kernelspec": {
   "display_name": "Python 3",
   "language": "python",
   "name": "python3"
  },
  "language_info": {
   "codemirror_mode": {
    "name": "ipython",
    "version": 3
   },
   "file_extension": ".py",
   "mimetype": "text/x-python",
   "name": "python",
   "nbconvert_exporter": "python",
   "pygments_lexer": "ipython3",
   "version": "3.8.5"
  }
 },
 "nbformat": 4,
 "nbformat_minor": 4
}
